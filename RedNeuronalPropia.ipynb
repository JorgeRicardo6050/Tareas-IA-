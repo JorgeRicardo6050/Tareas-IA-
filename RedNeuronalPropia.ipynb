{
  "cells": [
    {
      "cell_type": "markdown",
      "metadata": {
        "id": "view-in-github",
        "colab_type": "text"
      },
      "source": [
        "<a href=\"https://colab.research.google.com/github/JorgeRicardo6050/Tareas-IA-/blob/main/RedNeuronalPropia.ipynb\" target=\"_parent\"><img src=\"https://colab.research.google.com/assets/colab-badge.svg\" alt=\"Open In Colab\"/></a>"
      ]
    },
    {
      "cell_type": "code",
      "execution_count": 1,
      "id": "f1afd6b1",
      "metadata": {
        "id": "f1afd6b1"
      },
      "outputs": [],
      "source": [
        "# Importamos las librerías necesarias\n",
        "import tensorflow as tf\n",
        "import numpy as np\n",
        "import matplotlib.pyplot as plt"
      ]
    },
    {
      "cell_type": "code",
      "execution_count": 2,
      "id": "09bae870",
      "metadata": {
        "id": "09bae870"
      },
      "outputs": [],
      "source": [
        "# Datos de ejemplo: pesos mexicanos (MXN) y su equivalente en yenes japoneses (JPY) con valores más aleatorios\n",
        "pesos = np.array([5, 20, 35, 60, 120, 250, 400, 800, 1500], dtype=float)  # Pesos mexicanos\n",
        "yenes = np.array([38, 150, 263, 450, 900, 1875, 3000, 6000, 11250], dtype=float)  # Yen japonés (valores aproximados)"
      ]
    },
    {
      "cell_type": "code",
      "execution_count": 3,
      "id": "19cb58ed",
      "metadata": {
        "colab": {
          "base_uri": "https://localhost:8080/"
        },
        "id": "19cb58ed",
        "outputId": "a1855565-ce53-436c-ace1-bd0a9a06141f"
      },
      "outputs": [
        {
          "output_type": "stream",
          "name": "stdout",
          "text": [
            "Pesos mexicanos: [   5.   20.   35.   60.  120.  250.  400.  800. 1500.]\n",
            "Yenes japoneses: [   38.   150.   263.   450.   900.  1875.  3000.  6000. 11250.]\n"
          ]
        }
      ],
      "source": [
        "# Imprimimos los datos para verificar\n",
        "print(\"Pesos mexicanos:\", pesos)\n",
        "print(\"Yenes japoneses:\", yenes)"
      ]
    },
    {
      "cell_type": "code",
      "execution_count": 4,
      "id": "0c956695",
      "metadata": {
        "colab": {
          "base_uri": "https://localhost:8080/"
        },
        "id": "0c956695",
        "outputId": "179c2da1-e044-4801-8508-272152493a4a"
      },
      "outputs": [
        {
          "output_type": "stream",
          "name": "stderr",
          "text": [
            "/usr/local/lib/python3.11/dist-packages/keras/src/layers/core/dense.py:87: UserWarning: Do not pass an `input_shape`/`input_dim` argument to a layer. When using Sequential models, prefer using an `Input(shape)` object as the first layer in the model instead.\n",
            "  super().__init__(activity_regularizer=activity_regularizer, **kwargs)\n"
          ]
        }
      ],
      "source": [
        "# Definimos el modelo de red neuronal\n",
        "capa = tf.keras.layers.Dense(units=1, input_shape=[1])  # Una capa con una neurona\n",
        "modelo = tf.keras.Sequential([capa])  # Modelo secuencial con una sola capa"
      ]
    },
    {
      "cell_type": "code",
      "execution_count": 5,
      "id": "649b325e",
      "metadata": {
        "id": "649b325e"
      },
      "outputs": [],
      "source": [
        "# Compilamos el modelo\n",
        "modelo.compile(\n",
        "    optimizer=tf.keras.optimizers.Adam(0.1),  # Tasa de aprendizaje\n",
        "    loss='mean_squared_error'  # Función de pérdida\n",
        ")"
      ]
    },
    {
      "cell_type": "code",
      "execution_count": 6,
      "id": "130259b9",
      "metadata": {
        "colab": {
          "base_uri": "https://localhost:8080/"
        },
        "id": "130259b9",
        "outputId": "3dbf1949-d02e-497f-c5fb-7b259ddd2cf2"
      },
      "outputs": [
        {
          "output_type": "stream",
          "name": "stdout",
          "text": [
            "Comenzando entrenamiento...\n",
            "Modelo entrenado!\n"
          ]
        }
      ],
      "source": [
        "# Entrenamos el modelo\n",
        "print(\"Comenzando entrenamiento...\")\n",
        "historial = modelo.fit(pesos, yenes, epochs=1000, verbose=False)\n",
        "print(\"Modelo entrenado!\")"
      ]
    },
    {
      "cell_type": "code",
      "execution_count": 7,
      "id": "d203c88a",
      "metadata": {
        "colab": {
          "base_uri": "https://localhost:8080/",
          "height": 467
        },
        "id": "d203c88a",
        "outputId": "402adffa-d790-489f-c5d6-ed6bf1b7c051"
      },
      "outputs": [
        {
          "output_type": "display_data",
          "data": {
            "text/plain": [
              "<Figure size 640x480 with 1 Axes>"
            ],
            "image/png": "[encoded data removed]"
          },
          "metadata": {}
        }
      ],
      "source": [
        "# Graficamos la función de pérdida\n",
        "plt.xlabel(\"# Época\")\n",
        "plt.ylabel(\"Magnitud de pérdida\")\n",
        "plt.plot(historial.history[\"loss\"])\n",
        "plt.show()"
      ]
    },
    {
      "cell_type": "code",
      "execution_count": 8,
      "id": "fd37b540",
      "metadata": {
        "colab": {
          "base_uri": "https://localhost:8080/"
        },
        "id": "fd37b540",
        "outputId": "13e208a1-454b-4c03-f265-55d32e5d0dac"
      },
      "outputs": [
        {
          "output_type": "stream",
          "name": "stdout",
          "text": [
            "Hagamos una predicción!\n",
            "\u001b[1m1/1\u001b[0m \u001b[32m━━━━━━━━━━━━━━━━━━━━\u001b[0m\u001b[37m\u001b[0m \u001b[1m0s\u001b[0m 59ms/step\n",
            "El resultado es 2253.62 yenes!\n"
          ]
        }
      ],
      "source": [
        "# Realizamos una predicción\n",
        "print(\"Hagamos una predicción!\")\n",
        "resultado = modelo.predict(np.array([300.0]))  # Convertimos 300 pesos mexicanos a yenes\n",
        "print(f\"El resultado es {resultado[0][0]:.2f} yenes!\")"
      ]
    },
    {
      "cell_type": "code",
      "execution_count": 9,
      "id": "6f881559",
      "metadata": {
        "colab": {
          "base_uri": "https://localhost:8080/"
        },
        "id": "6f881559",
        "outputId": "9cbcc0c3-7b3c-4376-92bc-7d992fde692f"
      },
      "outputs": [
        {
          "output_type": "stream",
          "name": "stdout",
          "text": [
            "Variables internas del modelo (pesos y sesgos):\n",
            "[array([[7.4946933]], dtype=float32), array([5.208425], dtype=float32)]\n"
          ]
        }
      ],
      "source": [
        "# Mostramos las variables internas del modelo\n",
        "print(\"Variables internas del modelo (pesos y sesgos):\")\n",
        "print(capa.get_weights())"
      ]
    }
  ],
  "metadata": {
    "jupytext": {
      "cell_metadata_filter": "-all",
      "main_language": "python",
      "notebook_metadata_filter": "-all"
    },
    "colab": {
      "provenance": [],
      "include_colab_link": true
    },
    "language_info": {
      "name": "python"
    },
    "kernelspec": {
      "name": "python3",
      "display_name": "Python 3"
    }
  },
  "nbformat": 4,
  "nbformat_minor": 5
}