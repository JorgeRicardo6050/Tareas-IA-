{
  "cells": [
    {
      "cell_type": "markdown",
      "metadata": {
        "id": "view-in-github",
        "colab_type": "text"
      },
      "source": [
        "<a href=\"https://colab.research.google.com/github/JorgeRicardo6050/Tareas-IA-/blob/main/RedNeuronalPropia.ipynb\" target=\"_parent\"><img src=\"https://colab.research.google.com/assets/colab-badge.svg\" alt=\"Open In Colab\"/></a>"
      ]
    },
    {
      "cell_type": "code",
      "execution_count": null,
      "id": "f1afd6b1",
      "metadata": {
        "id": "f1afd6b1"
      },
      "outputs": [],
      "source": [
        "# Importamos las librerías necesarias\n",
        "import tensorflow as tf\n",
        "import numpy as np\n",
        "import matplotlib.pyplot as plt"
      ]
    },
    {
      "cell_type": "code",
      "execution_count": null,
      "id": "09bae870",
      "metadata": {
        "id": "09bae870"
      },
      "outputs": [],
      "source": [
        "# Datos de ejemplo: pesos mexicanos (MXN) y su equivalente en yenes japoneses (JPY) con valores más aleatorios\n",
        "pesos = np.array([5, 20, 35, 60, 120, 250, 400, 800, 1500], dtype=float)  # Pesos mexicanos\n",
        "yenes = np.array([38, 150, 263, 450, 900, 1875, 3000, 6000, 11250], dtype=float)  # Yen japonés (valores aproximados)"
      ]
    },
    {
      "cell_type": "code",
      "execution_count": null,
      "id": "19cb58ed",
      "metadata": {
        "id": "19cb58ed"
      },
      "outputs": [],
      "source": [
        "# Imprimimos los datos para verificar\n",
        "print(\"Pesos mexicanos:\", pesos)\n",
        "print(\"Yenes japoneses:\", yenes)"
      ]
    },
    {
      "cell_type": "code",
      "execution_count": null,
      "id": "0c956695",
      "metadata": {
        "id": "0c956695"
      },
      "outputs": [],
      "source": [
        "# Definimos el modelo de red neuronal\n",
        "capa = tf.keras.layers.Dense(units=1, input_shape=[1])  # Una capa con una neurona\n",
        "modelo = tf.keras.Sequential([capa])  # Modelo secuencial con una sola capa"
      ]
    },
    {
      "cell_type": "code",
      "execution_count": null,
      "id": "649b325e",
      "metadata": {
        "id": "649b325e"
      },
      "outputs": [],
      "source": [
        "# Compilamos el modelo\n",
        "modelo.compile(\n",
        "    optimizer=tf.keras.optimizers.Adam(0.1),  # Tasa de aprendizaje\n",
        "    loss='mean_squared_error'  # Función de pérdida\n",
        ")"
      ]
    },
    {
      "cell_type": "code",
      "execution_count": null,
      "id": "130259b9",
      "metadata": {
        "id": "130259b9"
      },
      "outputs": [],
      "source": [
        "# Entrenamos el modelo\n",
        "print(\"Comenzando entrenamiento...\")\n",
        "historial = modelo.fit(pesos, yenes, epochs=1000, verbose=False)\n",
        "print(\"Modelo entrenado!\")"
      ]
    },
    {
      "cell_type": "code",
      "execution_count": null,
      "id": "d203c88a",
      "metadata": {
        "id": "d203c88a"
      },
      "outputs": [],
      "source": [
        "# Graficamos la función de pérdida\n",
        "plt.xlabel(\"# Época\")\n",
        "plt.ylabel(\"Magnitud de pérdida\")\n",
        "plt.plot(historial.history[\"loss\"])\n",
        "plt.show()"
      ]
    },
    {
      "cell_type": "code",
      "execution_count": null,
      "id": "fd37b540",
      "metadata": {
        "id": "fd37b540"
      },
      "outputs": [],
      "source": [
        "# Realizamos una predicción\n",
        "print(\"Hagamos una predicción!\")\n",
        "resultado = modelo.predict(np.array([300.0]))  # Convertimos 300 pesos mexicanos a yenes\n",
        "print(f\"El resultado es {resultado[0][0]:.2f} yenes!\")"
      ]
    },
    {
      "cell_type": "code",
      "execution_count": null,
      "id": "6f881559",
      "metadata": {
        "id": "6f881559"
      },
      "outputs": [],
      "source": [
        "# Mostramos las variables internas del modelo\n",
        "print(\"Variables internas del modelo (pesos y sesgos):\")\n",
        "print(capa.get_weights())"
      ]
    }
  ],
  "metadata": {
    "jupytext": {
      "cell_metadata_filter": "-all",
      "main_language": "python",
      "notebook_metadata_filter": "-all"
    },
    "colab": {
      "provenance": [],
      "include_colab_link": true
    }
  },
  "nbformat": 4,
  "nbformat_minor": 5
}