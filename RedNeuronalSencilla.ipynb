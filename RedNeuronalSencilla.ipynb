{
  "nbformat": 4,
  "nbformat_minor": 0,
  "metadata": {
    "colab": {
      "provenance": [],
      "toc_visible": true,
      "authorship_tag": "ABX9TyN5e5JjfYLVHTLr9KlfPkKG",
      "include_colab_link": true
    },
    "kernelspec": {
      "name": "python3",
      "display_name": "Python 3"
    },
    "language_info": {
      "name": "python"
    }
  },
  "cells": [
    {
      "cell_type": "markdown",
      "metadata": {
        "id": "view-in-github",
        "colab_type": "text"
      },
      "source": [
        "<a href=\"https://colab.research.google.com/github/JorgeRicardo6050/Tareas-IA-/blob/main/RedNeuronalSencilla.ipynb\" target=\"_parent\"><img src=\"https://colab.research.google.com/assets/colab-badge.svg\" alt=\"Open In Colab\"/></a>"
      ]
    },
    {
      "cell_type": "markdown",
      "source": [
        "#Tarea: Red Neuronal Sencilla\n",
        "#Autor: Jiménez Galindo Jorge Ricardo"
      ],
      "metadata": {
        "id": "n3HEGFvJ7511"
      }
    },
    {
      "cell_type": "markdown",
      "source": [
        "Lo primero que deberemos hacer es importar las librerias necesarias para desarrollar esta Red Neuronal"
      ],
      "metadata": {
        "id": "DbpGnXfpoxdO"
      }
    },
    {
      "cell_type": "code",
      "source": [
        "import tensorflow as tf\n",
        "import numpy as np\n",
        "import matplotlib.pyplot as plt"
      ],
      "metadata": {
        "id": "ZtNq4GQ2pIcI"
      },
      "execution_count": null,
      "outputs": []
    },
    {
      "cell_type": "markdown",
      "source": [
        "Posterior a ello introduciremos los datos, creando un Array de numpy para manejar los datos de mejor manera para el entrenamiento de la neurona"
      ],
      "metadata": {
        "id": "6Ve-S5rhpOSQ"
      }
    },
    {
      "cell_type": "code",
      "execution_count": null,
      "metadata": {
        "id": "b0AiNwDU73uw"
      },
      "outputs": [],
      "source": [
        "celsius = np.array([-40, -10, 0, 8, 15, 22, 38], dtype=float)\n",
        "fahrenheit = np.array([-40, 14, 32, 46, 59, 72, 100], dtype=float)"
      ]
    },
    {
      "cell_type": "markdown",
      "source": [
        "Estos son los valores que la red usará para aprender la conversión de grados celsius a fahrenheit sin que esta tenga de referencia la formula de la conversión"
      ],
      "metadata": {
        "id": "rSBOV1eyrc3S"
      }
    },
    {
      "cell_type": "code",
      "source": [
        "print(celsius)\n",
        "print(fahrenheit)"
      ],
      "metadata": {
        "colab": {
          "base_uri": "https://localhost:8080/"
        },
        "id": "8D4EkHzPqlU2",
        "outputId": "05ae96c3-0d70-4f27-b122-de1c90015699"
      },
      "execution_count": null,
      "outputs": [
        {
          "output_type": "stream",
          "name": "stdout",
          "text": [
            "[-40. -10.   0.   8.  15.  22.  38.]\n",
            "[-40.  14.  32.  46.  59.  72. 100.]\n"
          ]
        }
      ]
    },
    {
      "cell_type": "markdown",
      "source": [
        "En este caso utilizaremos el framework de Keras, nos ayudara a conectar las neuronas, en este caso solo tenemos 2 neuronas"
      ],
      "metadata": {
        "id": "G3XDurHzvHhS"
      }
    },
    {
      "cell_type": "code",
      "source": [
        "capa = tf.keras.layers.Dense(units=1, input_shape=[1])"
      ],
      "metadata": {
        "colab": {
          "base_uri": "https://localhost:8080/"
        },
        "id": "6COEIG41vEQj",
        "outputId": "973f0bd2-f885-4be9-f57b-e68fbad8a5da"
      },
      "execution_count": null,
      "outputs": [
        {
          "output_type": "stream",
          "name": "stderr",
          "text": [
            "/usr/local/lib/python3.11/dist-packages/keras/src/layers/core/dense.py:87: UserWarning: Do not pass an `input_shape`/`input_dim` argument to a layer. When using Sequential models, prefer using an `Input(shape)` object as the first layer in the model instead.\n",
            "  super().__init__(activity_regularizer=activity_regularizer, **kwargs)\n"
          ]
        }
      ]
    },
    {
      "cell_type": "markdown",
      "source": [
        "Aqui se imprime la capa que utilizaremos para entrenar nuestro modelo"
      ],
      "metadata": {
        "id": "UzWv1rBxv14s"
      }
    },
    {
      "cell_type": "code",
      "source": [
        "print(capa)"
      ],
      "metadata": {
        "colab": {
          "base_uri": "https://localhost:8080/"
        },
        "id": "_thWHA0pv_C7",
        "outputId": "9e17bfd0-5c11-421c-ba0f-f6fb807f2281"
      },
      "execution_count": null,
      "outputs": [
        {
          "output_type": "stream",
          "name": "stdout",
          "text": [
            "<Dense name=dense, built=False>\n"
          ]
        }
      ]
    },
    {
      "cell_type": "markdown",
      "source": [
        "Como siguiente vamos a crear el modelo secuencial"
      ],
      "metadata": {
        "id": "w7xn1L2rwPG0"
      }
    },
    {
      "cell_type": "code",
      "source": [
        "modelo = tf.keras.Sequential([capa])\n",
        "print(modelo)"
      ],
      "metadata": {
        "colab": {
          "base_uri": "https://localhost:8080/"
        },
        "id": "VCwa9FRQx2c5",
        "outputId": "8a0115d6-f863-4021-c8e0-ecc16f8c90df"
      },
      "execution_count": null,
      "outputs": [
        {
          "output_type": "stream",
          "name": "stdout",
          "text": [
            "<Sequential name=sequential, built=True>\n"
          ]
        }
      ]
    },
    {
      "cell_type": "markdown",
      "source": [
        "Como siguiente vamos a compilar y preparar para el entrenamiento el modelo que acabamos de crear, teniendo como tasa de aprendizaje de 0.1, ademas utilizamos el algoritmo de optimización Adams y utilizando la funcion de perdida del MSE \"Mean Squared Error\""
      ],
      "metadata": {
        "id": "f5-MB2zWx69D"
      }
    },
    {
      "cell_type": "code",
      "source": [
        "modelo.compile(\n",
        "    optimizer=tf.keras.optimizers.Adam(0.1),\n",
        "    loss='mean_squared_error'\n",
        ")"
      ],
      "metadata": {
        "id": "v1x2bd8GynuC"
      },
      "execution_count": null,
      "outputs": []
    },
    {
      "cell_type": "markdown",
      "source": [
        "Una vez tengamos los preparativos empezamos con el entrenamiento del modelo"
      ],
      "metadata": {
        "id": "H5lGDSmAy5Oq"
      }
    },
    {
      "cell_type": "code",
      "source": [
        "print(\"Comenzando entrenamiento...\")\n",
        "historial = modelo.fit(celsius, fahrenheit, epochs=1000, verbose=False)\n",
        "print(\"Modelo entrenado!\")"
      ],
      "metadata": {
        "colab": {
          "base_uri": "https://localhost:8080/"
        },
        "id": "tOma4pF2zDay",
        "outputId": "2393f5d0-7b19-41ee-9bb2-7655e5353548"
      },
      "execution_count": null,
      "outputs": [
        {
          "output_type": "stream",
          "name": "stdout",
          "text": [
            "Comenzando entrenamiento...\n",
            "Modelo entrenado!\n"
          ]
        }
      ]
    },
    {
      "cell_type": "markdown",
      "source": [
        "Aquí mostraremos los resultados de la funcion de perdida"
      ],
      "metadata": {
        "id": "d0gvelPYzGac"
      }
    },
    {
      "cell_type": "code",
      "source": [
        "plt.xlabel(\"# Vuelta dada\")\n",
        "plt.ylabel(\"Magnitud de pérdida\")\n",
        "plt.plot(historial.history[\"loss\"])"
      ],
      "metadata": {
        "colab": {
          "base_uri": "https://localhost:8080/",
          "height": 467
        },
        "id": "Yf_9DviZ087k",
        "outputId": "83d0bc76-0fb3-4ff9-f68c-ae7bf6f8a400"
      },
      "execution_count": null,
      "outputs": [
        {
          "output_type": "execute_result",
          "data": {
            "text/plain": [
              "[<matplotlib.lines.Line2D at 0x7c5d3feb6a10>]"
            ]
          },
          "metadata": {},
          "execution_count": 15
        },
        {
          "output_type": "display_data",
          "data": {
            "text/plain": [
              "<Figure size 640x480 with 1 Axes>"
            ],
            "image/png": "[encoded data removed]"
          },
          "metadata": {}
        }
      ]
    },
    {
      "cell_type": "markdown",
      "source": [
        "Ahora si, estamos listos para hacer una predicción"
      ],
      "metadata": {
        "id": "EcBETCFC1LW1"
      }
    },
    {
      "cell_type": "code",
      "source": [
        "print(\"Hagamos una predicción!\")\n",
        "resultado = modelo.predict(np.array([100.0]))\n",
        "print(\"El resultado es \" + str(resultado) + \" fahrenheit!\")"
      ],
      "metadata": {
        "colab": {
          "base_uri": "https://localhost:8080/"
        },
        "id": "e8vAICiv1Rfh",
        "outputId": "8f268949-63b3-4566-d3eb-5e56ad9f3d8f"
      },
      "execution_count": null,
      "outputs": [
        {
          "output_type": "stream",
          "name": "stdout",
          "text": [
            "Hagamos una predicción!\n",
            "\u001b[1m1/1\u001b[0m \u001b[32m━━━━━━━━━━━━━━━━━━━━\u001b[0m\u001b[37m\u001b[0m \u001b[1m0s\u001b[0m 97ms/step\n",
            "El resultado es [[211.74396]] fahrenheit!\n"
          ]
        }
      ]
    },
    {
      "cell_type": "markdown",
      "source": [
        "Aquí se muestran las variables que utilizó el modelo para realizar la conversión"
      ],
      "metadata": {
        "id": "cjsTv81m1TuN"
      }
    },
    {
      "cell_type": "code",
      "source": [
        "print(\"Variables internas del modelo\")\n",
        "print(capa.get_weights())"
      ],
      "metadata": {
        "colab": {
          "base_uri": "https://localhost:8080/"
        },
        "id": "Tmkx14FO1dIw",
        "outputId": "000d0f14-9c80-4490-bab0-b7e23dd9fe3b"
      },
      "execution_count": null,
      "outputs": [
        {
          "output_type": "stream",
          "name": "stdout",
          "text": [
            "Variables internas del modelo\n",
            "[array([[1.7981412]], dtype=float32), array([31.929848], dtype=float32)]\n"
          ]
        }
      ]
    }
  ]
}