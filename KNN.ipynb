{
  "cells": [
    {
      "cell_type": "markdown",
      "metadata": {
        "id": "view-in-github",
        "colab_type": "text"
      },
      "source": [
        "<a href=\"https://colab.research.google.com/github/JorgeRicardo6050/Tareas-IA-/blob/main/KNN.ipynb\" target=\"_parent\"><img src=\"https://colab.research.google.com/assets/colab-badge.svg\" alt=\"Open In Colab\"/></a>"
      ]
    },
    {
      "cell_type": "code",
      "execution_count": 11,
      "id": "487de1a6",
      "metadata": {
        "id": "487de1a6"
      },
      "outputs": [],
      "source": [
        "import numpy as np\n",
        "from collections import Counter"
      ]
    },
    {
      "cell_type": "code",
      "execution_count": 12,
      "id": "9492b433",
      "metadata": {
        "id": "9492b433"
      },
      "outputs": [],
      "source": [
        "# --- 1. Generación de Datos de Ejemplo ---\n",
        "training_data = np.array([\n",
        "    [1.0, 1.0, 0],\n",
        "    [1.2, 1.5, 0],\n",
        "    [1.8, 0.5, 0],\n",
        "    [2.0, 1.2, 0],\n",
        "    [3.0, 3.0, 1],\n",
        "    [3.5, 2.5, 1],\n",
        "    [4.0, 3.8, 1],\n",
        "    [4.5, 3.2, 1]\n",
        "])"
      ]
    },
    {
      "cell_type": "code",
      "execution_count": 13,
      "id": "7f39057f",
      "metadata": {
        "colab": {
          "base_uri": "https://localhost:8080/"
        },
        "id": "7f39057f",
        "outputId": "cb3dde4d-09c3-4b1c-ffcf-d834bebc2854"
      },
      "outputs": [
        {
          "output_type": "stream",
          "name": "stdout",
          "text": [
            "Datos de Entrenamiento:\n",
            "[[1.  1.  0. ]\n",
            " [1.2 1.5 0. ]\n",
            " [1.8 0.5 0. ]\n",
            " [2.  1.2 0. ]\n",
            " [3.  3.  1. ]\n",
            " [3.5 2.5 1. ]\n",
            " [4.  3.8 1. ]\n",
            " [4.5 3.2 1. ]]\n",
            "------------------------------\n"
          ]
        }
      ],
      "source": [
        "print(\"Datos de Entrenamiento:\")\n",
        "print(training_data)\n",
        "print(\"-\" * 30)"
      ]
    },
    {
      "cell_type": "code",
      "execution_count": 14,
      "id": "f9ffea6c",
      "metadata": {
        "lines_to_next_cell": 1,
        "colab": {
          "base_uri": "https://localhost:8080/"
        },
        "id": "f9ffea6c",
        "outputId": "9dcba5ae-3f44-48bf-c12a-ac5b300bae91"
      },
      "outputs": [
        {
          "output_type": "stream",
          "name": "stdout",
          "text": [
            "Nuevo Punto a Clasificar: [2.5 2. ]\n",
            "------------------------------\n"
          ]
        }
      ],
      "source": [
        "new_point = np.array([2.5, 2.0])\n",
        "print(f\"Nuevo Punto a Clasificar: {new_point}\")\n",
        "print(\"-\" * 30)"
      ]
    },
    {
      "cell_type": "markdown",
      "id": "735b0351",
      "metadata": {
        "id": "735b0351"
      },
      "source": [
        "--- 2. Implementación del Algoritmo KNN ---"
      ]
    },
    {
      "cell_type": "code",
      "execution_count": 15,
      "id": "5c7ba93e",
      "metadata": {
        "lines_to_next_cell": 1,
        "id": "5c7ba93e"
      },
      "outputs": [],
      "source": [
        "def euclidean_distance(point1, point2):\n",
        "    return np.sqrt(np.sum((point1 - point2)**2))"
      ]
    },
    {
      "cell_type": "code",
      "execution_count": 16,
      "id": "961494b2",
      "metadata": {
        "lines_to_next_cell": 1,
        "id": "961494b2"
      },
      "outputs": [],
      "source": [
        "def knn_predict(training_data, new_point, k=3):\n",
        "    distances = []\n",
        "    for i, data_point in enumerate(training_data):\n",
        "        features = data_point[:-1]\n",
        "        label = data_point[-1]\n",
        "        dist = euclidean_distance(new_point, features)\n",
        "        distances.append((dist, label))\n",
        "    distances.sort(key=lambda x: x[0])\n",
        "    k_nearest_neighbors = distances[:k]\n",
        "    neighbor_labels = [label for dist, label in k_nearest_neighbors]\n",
        "    most_common = Counter(neighbor_labels).most_common(1)\n",
        "    predicted_class = most_common[0][0]\n",
        "    return predicted_class, k_nearest_neighbors"
      ]
    },
    {
      "cell_type": "code",
      "execution_count": 17,
      "id": "4b4a3a87",
      "metadata": {
        "id": "4b4a3a87"
      },
      "outputs": [],
      "source": [
        "# --- 3. Ejecución y Predicción ---\n",
        "k_value = 3\n",
        "predicted_class, neighbors = knn_predict(training_data, new_point, k=k_value)"
      ]
    },
    {
      "cell_type": "code",
      "execution_count": 18,
      "id": "ac6019be",
      "metadata": {
        "colab": {
          "base_uri": "https://localhost:8080/"
        },
        "id": "ac6019be",
        "outputId": "8182ee51-2dfd-4a45-af73-f85d24e93d4e"
      },
      "outputs": [
        {
          "output_type": "stream",
          "name": "stdout",
          "text": [
            "Para el nuevo punto [2.5 2. ] y K = 3:\n",
            "  Los 3 vecinos más cercanos son:\n",
            "    - Distancia: 0.94, Clase: 0\n",
            "    - Distancia: 1.12, Clase: 1\n",
            "    - Distancia: 1.12, Clase: 1\n"
          ]
        }
      ],
      "source": [
        "print(f\"Para el nuevo punto {new_point} y K = {k_value}:\")\n",
        "print(f\"  Los {k_value} vecinos más cercanos son:\")\n",
        "for dist, label in neighbors:\n",
        "    print(f\"    - Distancia: {dist:.2f}, Clase: {int(label)}\")"
      ]
    },
    {
      "cell_type": "code",
      "execution_count": 19,
      "id": "d0a5a0b5",
      "metadata": {
        "colab": {
          "base_uri": "https://localhost:8080/"
        },
        "id": "d0a5a0b5",
        "outputId": "2fa64592-5b7f-4439-d701-07f80c930f8b"
      },
      "outputs": [
        {
          "output_type": "stream",
          "name": "stdout",
          "text": [
            "  La clase predicha es: 1\n"
          ]
        }
      ],
      "source": [
        "print(f\"  La clase predicha es: {int(predicted_class)}\")"
      ]
    },
    {
      "cell_type": "code",
      "execution_count": 20,
      "id": "6e43cd42",
      "metadata": {
        "colab": {
          "base_uri": "https://localhost:8080/",
          "height": 564
        },
        "id": "6e43cd42",
        "outputId": "22a6aa28-00c0-4154-88f6-306b42f8aa6d"
      },
      "outputs": [
        {
          "output_type": "display_data",
          "data": {
            "text/plain": [
              "<Figure size 800x600 with 1 Axes>"
            ],
            "image/png": "[encoded data removed]"
          },
          "metadata": {}
        }
      ],
      "source": [
        "# --- Opcional: Visualización (Requiere matplotlib) ---\n",
        "try:\n",
        "    import matplotlib.pyplot as plt\n",
        "\n",
        "    plt.figure(figsize=(8, 6))\n",
        "\n",
        "    class_0_points = training_data[training_data[:, 2] == 0]\n",
        "    plt.scatter(class_0_points[:, 0], class_0_points[:, 1], color='blue', label='Clase 0 (Entrenamiento)', s=100, alpha=0.8)\n",
        "\n",
        "    class_1_points = training_data[training_data[:, 2] == 1]\n",
        "    plt.scatter(class_1_points[:, 0], class_1_points[:, 1], color='red', label='Clase 1 (Entrenamiento)', s=100, alpha=0.8)\n",
        "\n",
        "    plt.scatter(new_point[0], new_point[1], color='green', marker='X', s=200, label='Nuevo Punto', zorder=5)\n",
        "\n",
        "    for dist, label in neighbors:\n",
        "        for data_p in training_data:\n",
        "            if np.array_equal(data_p[:-1], new_point):\n",
        "                continue\n",
        "            if euclidean_distance(new_point, data_p[:-1]) == dist:\n",
        "                plt.plot([new_point[0], data_p[0]], [new_point[1], data_p[1]], 'k--', alpha=0.5, linewidth=0.8)\n",
        "                break\n",
        "\n",
        "    plt.title(f'Clasificación KNN (K={k_value})')\n",
        "    plt.xlabel('Característica 1')\n",
        "    plt.ylabel('Característica 2')\n",
        "    plt.legend()\n",
        "    plt.grid(True)\n",
        "    plt.show()\n",
        "\n",
        "except ImportError:\n",
        "    print(\"\\nPara la visualización, instala matplotlib: pip install matplotlib\")"
      ]
    }
  ],
  "metadata": {
    "jupytext": {
      "cell_metadata_filter": "-all",
      "main_language": "python",
      "notebook_metadata_filter": "-all"
    },
    "colab": {
      "provenance": [],
      "include_colab_link": true
    },
    "language_info": {
      "name": "python"
    },
    "kernelspec": {
      "name": "python3",
      "display_name": "Python 3"
    }
  },
  "nbformat": 4,
  "nbformat_minor": 5
}