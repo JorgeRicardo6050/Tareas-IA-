{
  "cells": [
    {
      "cell_type": "markdown",
      "metadata": {
        "id": "view-in-github",
        "colab_type": "text"
      },
      "source": [
        "<a href=\"https://colab.research.google.com/github/JorgeRicardo6050/Tareas-IA-/blob/main/ClasificadorDeNumeros.ipynb\" target=\"_parent\"><img src=\"https://colab.research.google.com/assets/colab-badge.svg\" alt=\"Open In Colab\"/></a>"
      ]
    },
    {
      "cell_type": "code",
      "execution_count": 1,
      "id": "5e9cec2f",
      "metadata": {
        "id": "5e9cec2f"
      },
      "outputs": [],
      "source": [
        "# Importamos las librerías necesarias\n",
        "import tensorflow as tf\n",
        "from keras import layers, models  # Importamos layers y models desde keras\n",
        "import matplotlib.pyplot as plt"
      ]
    },
    {
      "cell_type": "code",
      "execution_count": 2,
      "id": "2be1e517",
      "metadata": {
        "colab": {
          "base_uri": "https://localhost:8080/"
        },
        "id": "2be1e517",
        "outputId": "3689841a-2639-439d-b063-c6be01f8fe29"
      },
      "outputs": [
        {
          "output_type": "stream",
          "name": "stdout",
          "text": [
            "Downloading data from https://storage.googleapis.com/tensorflow/tf-keras-datasets/mnist.npz\n",
            "\u001b[1m11490434/11490434\u001b[0m \u001b[32m━━━━━━━━━━━━━━━━━━━━\u001b[0m\u001b[37m\u001b[0m \u001b[1m1s\u001b[0m 0us/step\n"
          ]
        }
      ],
      "source": [
        "# Cargamos el dataset MNIST\n",
        "mnist = tf.keras.datasets.mnist\n",
        "(x_train, y_train), (x_test, y_test) = mnist.load_data()"
      ]
    },
    {
      "cell_type": "code",
      "execution_count": 3,
      "id": "4a91a2ee",
      "metadata": {
        "id": "4a91a2ee"
      },
      "outputs": [],
      "source": [
        "# Normalizamos los datos (escalamos los valores de píxeles entre 0 y 1)\n",
        "x_train, x_test = x_train / 255.0, x_test / 255.0"
      ]
    },
    {
      "cell_type": "code",
      "execution_count": 4,
      "id": "659414a2",
      "metadata": {
        "colab": {
          "base_uri": "https://localhost:8080/",
          "height": 452
        },
        "id": "659414a2",
        "outputId": "247f78fe-8cef-4e1f-8abf-c369c8acadf5"
      },
      "outputs": [
        {
          "output_type": "display_data",
          "data": {
            "text/plain": [
              "<Figure size 640x480 with 1 Axes>"
            ],
            "image/png": "[encoded data removed]"
          },
          "metadata": {}
        }
      ],
      "source": [
        "# Mostramos un ejemplo del dataset\n",
        "plt.imshow(x_train[0], cmap='gray')\n",
        "plt.title(f\"Etiqueta: {y_train[0]}\")\n",
        "plt.show()"
      ]
    },
    {
      "cell_type": "code",
      "execution_count": 5,
      "id": "78be4512",
      "metadata": {
        "colab": {
          "base_uri": "https://localhost:8080/"
        },
        "id": "78be4512",
        "outputId": "abf68068-add3-4fe2-adb1-89d1f3b8934c"
      },
      "outputs": [
        {
          "output_type": "stream",
          "name": "stderr",
          "text": [
            "/usr/local/lib/python3.11/dist-packages/keras/src/layers/reshaping/flatten.py:37: UserWarning: Do not pass an `input_shape`/`input_dim` argument to a layer. When using Sequential models, prefer using an `Input(shape)` object as the first layer in the model instead.\n",
            "  super().__init__(**kwargs)\n"
          ]
        }
      ],
      "source": [
        "# Definimos el modelo de red neuronal\n",
        "modelo = tf.keras.Sequential([\n",
        "    tf.keras.layers.Flatten(input_shape=(28, 28)),  # Aplanamos las imágenes de 28x28 píxeles\n",
        "    tf.keras.layers.Dense(128, activation='relu'),  # Capa oculta con 128 neuronas y activación ReLU\n",
        "    tf.keras.layers.Dropout(0.2),  # Dropout para evitar sobreajuste\n",
        "    tf.keras.layers.Dense(10, activation='softmax')  # Capa de salida con 10 neuronas (una por cada dígito)\n",
        "])"
      ]
    },
    {
      "cell_type": "code",
      "execution_count": 6,
      "id": "73868a19",
      "metadata": {
        "id": "73868a19"
      },
      "outputs": [],
      "source": [
        "# Compilamos el modelo\n",
        "modelo.compile(\n",
        "    optimizer='adam',\n",
        "    loss='sparse_categorical_crossentropy',\n",
        "    metrics=['accuracy']\n",
        ")"
      ]
    },
    {
      "cell_type": "code",
      "execution_count": 7,
      "id": "a3730024",
      "metadata": {
        "colab": {
          "base_uri": "https://localhost:8080/"
        },
        "id": "a3730024",
        "outputId": "50722e27-98d5-4818-e518-b7b448f8f53c"
      },
      "outputs": [
        {
          "output_type": "stream",
          "name": "stdout",
          "text": [
            "Comenzando entrenamiento...\n",
            "Epoch 1/5\n",
            "\u001b[1m1875/1875\u001b[0m \u001b[32m━━━━━━━━━━━━━━━━━━━━\u001b[0m\u001b[37m\u001b[0m \u001b[1m14s\u001b[0m 7ms/step - accuracy: 0.8550 - loss: 0.4964 - val_accuracy: 0.9570 - val_loss: 0.1462\n",
            "Epoch 2/5\n",
            "\u001b[1m1875/1875\u001b[0m \u001b[32m━━━━━━━━━━━━━━━━━━━━\u001b[0m\u001b[37m\u001b[0m \u001b[1m17s\u001b[0m 5ms/step - accuracy: 0.9554 - loss: 0.1482 - val_accuracy: 0.9703 - val_loss: 0.0967\n",
            "Epoch 3/5\n",
            "\u001b[1m1875/1875\u001b[0m \u001b[32m━━━━━━━━━━━━━━━━━━━━\u001b[0m\u001b[37m\u001b[0m \u001b[1m10s\u001b[0m 6ms/step - accuracy: 0.9677 - loss: 0.1072 - val_accuracy: 0.9714 - val_loss: 0.0913\n",
            "Epoch 4/5\n",
            "\u001b[1m1875/1875\u001b[0m \u001b[32m━━━━━━━━━━━━━━━━━━━━\u001b[0m\u001b[37m\u001b[0m \u001b[1m21s\u001b[0m 6ms/step - accuracy: 0.9722 - loss: 0.0890 - val_accuracy: 0.9742 - val_loss: 0.0859\n",
            "Epoch 5/5\n",
            "\u001b[1m1875/1875\u001b[0m \u001b[32m━━━━━━━━━━━━━━━━━━━━\u001b[0m\u001b[37m\u001b[0m \u001b[1m9s\u001b[0m 5ms/step - accuracy: 0.9780 - loss: 0.0696 - val_accuracy: 0.9778 - val_loss: 0.0764\n",
            "Entrenamiento finalizado!\n"
          ]
        }
      ],
      "source": [
        "# Entrenamos el modelo\n",
        "print(\"Comenzando entrenamiento...\")\n",
        "historial = modelo.fit(x_train, y_train, epochs=5, validation_data=(x_test, y_test))\n",
        "print(\"Entrenamiento finalizado!\")"
      ]
    },
    {
      "cell_type": "code",
      "execution_count": 8,
      "id": "534510ca",
      "metadata": {
        "colab": {
          "base_uri": "https://localhost:8080/"
        },
        "id": "534510ca",
        "outputId": "e6321572-b506-4c8c-bfe1-d6f08b5fcbf9"
      },
      "outputs": [
        {
          "output_type": "stream",
          "name": "stdout",
          "text": [
            "313/313 - 1s - 3ms/step - accuracy: 0.9778 - loss: 0.0764\n",
            "Precisión en los datos de prueba: 0.98\n"
          ]
        }
      ],
      "source": [
        "# Evaluamos el modelo con los datos de prueba\n",
        "test_loss, test_acc = modelo.evaluate(x_test, y_test, verbose=2)\n",
        "print(f\"Precisión en los datos de prueba: {test_acc:.2f}\")"
      ]
    },
    {
      "cell_type": "code",
      "execution_count": 9,
      "id": "2b618f84",
      "metadata": {
        "colab": {
          "base_uri": "https://localhost:8080/"
        },
        "id": "2b618f84",
        "outputId": "9da21e47-03b0-49c2-aded-05d4489c534b"
      },
      "outputs": [
        {
          "output_type": "stream",
          "name": "stdout",
          "text": [
            "Realizando una predicción...\n",
            "\u001b[1m313/313\u001b[0m \u001b[32m━━━━━━━━━━━━━━━━━━━━\u001b[0m\u001b[37m\u001b[0m \u001b[1m1s\u001b[0m 3ms/step\n",
            "Predicción para la primera imagen de prueba: 7 (Etiqueta real: 7)\n"
          ]
        }
      ],
      "source": [
        "# Realizamos una predicción\n",
        "print(\"Realizando una predicción...\")\n",
        "predicciones = modelo.predict(x_test)\n",
        "print(f\"Predicción para la primera imagen de prueba: {predicciones[0].argmax()} (Etiqueta real: {y_test[0]})\")"
      ]
    },
    {
      "cell_type": "code",
      "execution_count": 10,
      "id": "2a0fa439",
      "metadata": {
        "colab": {
          "base_uri": "https://localhost:8080/",
          "height": 453
        },
        "id": "2a0fa439",
        "outputId": "3cfc955f-d9af-4769-b7d0-e8ab56ad8db6"
      },
      "outputs": [
        {
          "output_type": "display_data",
          "data": {
            "text/plain": [
              "<Figure size 640x480 with 1 Axes>"
            ],
            "image/png": "[encoded data removed]"
          },
          "metadata": {}
        }
      ],
      "source": [
        "# Mostramos la primera imagen de prueba y su predicción\n",
        "plt.imshow(x_test[0], cmap='gray')\n",
        "plt.title(f\"Predicción: {predicciones[0].argmax()} (Etiqueta real: {y_test[0]})\")\n",
        "plt.show()"
      ]
    }
  ],
  "metadata": {
    "jupytext": {
      "cell_metadata_filter": "-all",
      "main_language": "python",
      "notebook_metadata_filter": "-all"
    },
    "colab": {
      "provenance": [],
      "include_colab_link": true
    },
    "language_info": {
      "name": "python"
    },
    "kernelspec": {
      "name": "python3",
      "display_name": "Python 3"
    }
  },
  "nbformat": 4,
  "nbformat_minor": 5
}